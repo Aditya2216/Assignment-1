{
 "cells": [
  {
   "cell_type": "code",
   "execution_count": 10,
   "id": "08313fa9-be7f-4665-9001-26a3c19f5023",
   "metadata": {},
   "outputs": [
    {
     "name": "stdin",
     "output_type": "stream",
     "text": [
      "Enter the First Number:  5\n",
      "Enter the Second Number:  10\n"
     ]
    },
    {
     "name": "stdout",
     "output_type": "stream",
     "text": [
      "Addtion: 15\n",
      "Subtraction: -5\n",
      "Multiplication: 50\n",
      "Division: 0.5\n"
     ]
    }
   ],
   "source": [
    "a = int(input(\"Enter the First Number: \"))\n",
    "b = int(input(\"Enter the Second Number: \"))\n",
    "\n",
    "addtion = a + b\n",
    "subtraction = a - b\n",
    "multiplication = a * b\n",
    "division = a / b\n",
    "\n",
    "print(f\"Addtion:\",addtion)\n",
    "print(f\"Subtraction:\",subtraction)\n",
    "print(f\"Multiplication:\",multiplication)\n",
    "print(f\"Division:\",division)"
   ]
  },
  {
   "cell_type": "code",
   "execution_count": 5,
   "id": "87886bfa-e36b-47bd-b223-a5576e14d2c2",
   "metadata": {},
   "outputs": [
    {
     "name": "stdin",
     "output_type": "stream",
     "text": [
      "Enter the First name:  Aditya\n",
      "Enter the Last name:  Singh\n"
     ]
    },
    {
     "name": "stdout",
     "output_type": "stream",
     "text": [
      "\n",
      "Hello, Aditya Singh! Welcome to the Python program.\n"
     ]
    }
   ],
   "source": [
    "#input\n",
    "first_name = input(\"Enter the First name: \")\n",
    "last_name = input(\"Enter the Last name: \")\n",
    "\n",
    "# Concatenate full name\n",
    "full_name = first_name + \" \" + last_name\n",
    "\n",
    "print(f\"\\nHello, {full_name}! Welcome to the Python program.\")"
   ]
  },
  {
   "cell_type": "code",
   "execution_count": null,
   "id": "7d66fade-5d6e-41d8-83ab-43e25a8ed06f",
   "metadata": {},
   "outputs": [],
   "source": []
  }
 ],
 "metadata": {
  "kernelspec": {
   "display_name": "Python 3 (ipykernel)",
   "language": "python",
   "name": "python3"
  },
  "language_info": {
   "codemirror_mode": {
    "name": "ipython",
    "version": 3
   },
   "file_extension": ".py",
   "mimetype": "text/x-python",
   "name": "python",
   "nbconvert_exporter": "python",
   "pygments_lexer": "ipython3",
   "version": "3.13.5"
  }
 },
 "nbformat": 4,
 "nbformat_minor": 5
}
